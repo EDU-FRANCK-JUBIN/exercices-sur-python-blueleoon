{
 "cells": [
  {
   "cell_type": "code",
   "execution_count": 1,
   "metadata": {},
   "outputs": [],
   "source": [
    "import turtle as turtle\n",
    "import time\n",
    "turtle = turtle\n",
    "\n",
    "turtle.setup(600,750,50,50)\n",
    "rectangle = [500,650]\n",
    "\n",
    "turtle.mode('logo')\n",
    "turtle.speed(4)\n",
    "turtle.shape('arrow')\n",
    "\n",
    "\n",
    "\n",
    "def move(pos):\n",
    "    turtle.penup()\n",
    "    turtle.goto(pos[0], pos[1])\n",
    "    turtle.pendown()\n",
    "\n",
    "\n",
    "def rectangle(origin, lenght, width, color = 'grey', fill = 'none'):\n",
    "    \n",
    "    move(origin)\n",
    "    turtle.color(color)\n",
    "    if fill != 'none':\n",
    "        turtle.begin_fill()\n",
    "    turtle.right(90)\n",
    "    turtle.forward(lenght)\n",
    "    turtle.right(90)\n",
    "    turtle.forward(width)\n",
    "    turtle.right(90)\n",
    "    turtle.forward(lenght)\n",
    "    turtle.right(90)\n",
    "    turtle.forward(width) \n",
    "    if fill != 'none':\n",
    "        turtle.end_fill()\n",
    "    turtle.fillcolor(color)\n",
    "    \n",
    "    \n",
    "def triangle(origin, angle1, length1, angle2, lenght2, angle3, lenght3, color = 'grey', fill = 'none'):\n",
    "    \n",
    "    move(origin)\n",
    "    turtle.color(color)\n",
    "    if fill != 'none':\n",
    "        turtle.begin_fill()\n",
    "    turtle.right(angle1 - 30)\n",
    "    turtle.forward(length1)\n",
    "    turtle.right(angle2 + 60 )\n",
    "    turtle.forward(lenght2)\n",
    "    turtle.right(angle3 + 60 )\n",
    "    turtle.forward(lenght3)\n",
    "    if fill != 'none':\n",
    "        turtle.end_fill()\n",
    "    turtle.fillcolor(color)\n",
    "\n",
    "    "
   ]
  },
  {
   "cell_type": "code",
   "execution_count": 2,
   "metadata": {},
   "outputs": [],
   "source": [
    "origin = [0,0]\n",
    "move(origin)\n",
    "rectangle(origin, 80, 80)"
   ]
  },
  {
   "cell_type": "code",
   "execution_count": 3,
   "metadata": {},
   "outputs": [],
   "source": [
    "triangle(origin, 60, 80, 60, 80, 60, 80, 'green')"
   ]
  },
  {
   "cell_type": "code",
   "execution_count": 4,
   "metadata": {},
   "outputs": [],
   "source": [
    "porte = [20, -80]\n",
    "rectangle(porte, 40,40, 'red')"
   ]
  },
  {
   "cell_type": "code",
   "execution_count": 5,
   "metadata": {},
   "outputs": [],
   "source": [
    "time.sleep(5)\n",
    "turtle.bye()"
   ]
  }
 ],
 "metadata": {
  "kernelspec": {
   "display_name": "Python 3",
   "language": "python",
   "name": "python3"
  },
  "language_info": {
   "codemirror_mode": {
    "name": "ipython",
    "version": 3
   },
   "file_extension": ".py",
   "mimetype": "text/x-python",
   "name": "python",
   "nbconvert_exporter": "python",
   "pygments_lexer": "ipython3",
   "version": "3.7.5"
  }
 },
 "nbformat": 4,
 "nbformat_minor": 2
}
