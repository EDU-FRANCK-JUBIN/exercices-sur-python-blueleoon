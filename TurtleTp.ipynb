{
 "cells": [
  {
   "cell_type": "code",
   "execution_count": 1,
   "metadata": {},
   "outputs": [],
   "source": [
    "import turtle as turtle\n",
    "import time\n",
    "turtle = turtle\n",
    "\n",
    "turtle.setup(600,750,50,50)\n",
    "rectangle = [500,650]\n",
    "\n",
    "turtle.mode('logo')\n",
    "turtle.speed(3)\n",
    "turtle.shape('arrow')\n",
    "\n",
    "\n",
    "\n",
    "def move(pos):\n",
    "    turtle.penup()\n",
    "    turtle.goto(pos[0], pos[1])\n",
    "    turtle.pendown()\n",
    "\n",
    "\n",
    "def rectangle(origin, lenght, width, color = 'grey'):\n",
    "    \n",
    "    move(origin)\n",
    "    turtle.color(color)\n",
    "    turtle.begin_fill()\n",
    "    turtle.right(90)\n",
    "    turtle.forward(lenght)\n",
    "    turtle.right(90)\n",
    "    turtle.forward(width)\n",
    "    turtle.right(90)\n",
    "    turtle.forward(lenght)\n",
    "    turtle.right(90)\n",
    "    turtle.forward(width) \n",
    "    turtle.end_fill()\n",
    "    turtle.fillcolor(color)\n",
    "    \n",
    "\n",
    "\n",
    "\n",
    "\n",
    "\n"
   ]
  },
  {
   "cell_type": "code",
   "execution_count": 2,
   "metadata": {},
   "outputs": [],
   "source": [
    "origin = [-250,350]\n",
    "move(origin)\n",
    "rectangle(origin, 500, 650)"
   ]
  },
  {
   "cell_type": "code",
   "execution_count": null,
   "metadata": {},
   "outputs": [],
   "source": []
  },
  {
   "cell_type": "code",
   "execution_count": 3,
   "metadata": {},
   "outputs": [],
   "source": [
    "# Draw a square\n",
    "rectangle(origin, 500, 150, 'red')\n",
    "\n",
    "greenOrigin =[-50,200]\n",
    "rectangle(greenOrigin, 300, 500, 'green')\n",
    "\n",
    "orangeOrigin=[-150, -100]\n",
    "rectangle(orangeOrigin, 100, 200, 'orange')\n",
    "\n",
    "blueOrigin=[-250, 200]\n",
    "rectangle(blueOrigin, 100, 500, 'blue')\n"
   ]
  },
  {
   "cell_type": "code",
   "execution_count": null,
   "metadata": {},
   "outputs": [],
   "source": []
  },
  {
   "cell_type": "code",
   "execution_count": null,
   "metadata": {},
   "outputs": [],
   "source": []
  },
  {
   "cell_type": "code",
   "execution_count": null,
   "metadata": {},
   "outputs": [],
   "source": []
  },
  {
   "cell_type": "code",
   "execution_count": null,
   "metadata": {},
   "outputs": [],
   "source": []
  },
  {
   "cell_type": "code",
   "execution_count": 4,
   "metadata": {},
   "outputs": [],
   "source": [
    "time.sleep(5)\n",
    "turtle.bye()"
   ]
  }
 ],
 "metadata": {
  "kernelspec": {
   "display_name": "Python 3",
   "language": "python",
   "name": "python3"
  },
  "language_info": {
   "codemirror_mode": {
    "name": "ipython",
    "version": 3
   },
   "file_extension": ".py",
   "mimetype": "text/x-python",
   "name": "python",
   "nbconvert_exporter": "python",
   "pygments_lexer": "ipython3",
   "version": "3.7.4"
  }
 },
 "nbformat": 4,
 "nbformat_minor": 2
}
