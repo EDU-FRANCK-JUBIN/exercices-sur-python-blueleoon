{
 "cells": [
  {
   "cell_type": "code",
   "execution_count": 1,
   "metadata": {},
   "outputs": [],
   "source": [
    "import turtle as turtle\n",
    "import time\n",
    "turtle = turtle\n",
    "\n",
    "turtle.setup(1000,750,50,50)\n",
    "\n",
    "\n",
    "turtle.mode('logo')\n",
    "turtle.speed(6)\n",
    "turtle.shape('arrow')\n",
    "\n",
    "\n",
    "\n",
    "def move(pos):\n",
    "    turtle.penup()\n",
    "    turtle.goto(pos[0], pos[1])\n",
    "    turtle.pendown()\n",
    "\n",
    "\n",
    "def rectangle(origin, lenght, width, color = 'grey', fill = 'none'):\n",
    "    \n",
    "    move(origin)\n",
    "    turtle.color(color)\n",
    "    if fill != 'none':\n",
    "        turtle.begin_fill()\n",
    "    turtle.right(90)\n",
    "    turtle.forward(lenght)\n",
    "    turtle.right(90)\n",
    "    turtle.forward(width)\n",
    "    turtle.right(90)\n",
    "    turtle.forward(lenght)\n",
    "    turtle.right(90)\n",
    "    turtle.forward(width) \n",
    "    if fill != 'none':\n",
    "        turtle.end_fill()\n",
    "    turtle.fillcolor(color)\n",
    "    \n",
    "    \n",
    "def triangleIsocele(lenght, origin = 'none', color = 'grey', facing = 0 ):\n",
    "    turtle.seth(facing)\n",
    "    if origin != 'none':\n",
    "        move(origin)\n",
    "    turtle.color(color)\n",
    "    for i in range(3):\n",
    "        turtle.forward(lenght)\n",
    "        turtle.right(120)\n",
    "\n",
    "def hexagone(lenght, angle = 0, origin = 'none', color = 'none'):\n",
    "    turtle.pencolor(color)\n",
    "    if origin != 'none':\n",
    "        move(origin)\n",
    "    for i in range(6):\n",
    "        triangleIsocele(lenght, 'none' , color, -60*i + angle)\n",
    "        \n",
    "        \n",
    "def line(lenght, angle = 'none', origin = 'none', color = 'grey'):\n",
    "    if origin != 'none':\n",
    "        move(origin)\n",
    "    turtle.color(color)\n",
    "    turtle.seth(0)\n",
    "    if angle != 'none':\n",
    "            turtle.right(angle)   \n",
    "    turtle.forward(lenght)   "
   ]
  },
  {
   "cell_type": "code",
   "execution_count": 2,
   "metadata": {},
   "outputs": [],
   "source": [
    "origine = [-400,-300]\n",
    "line(800,90 , origine)"
   ]
  },
  {
   "cell_type": "code",
   "execution_count": 3,
   "metadata": {},
   "outputs": [],
   "source": [
    "arbre =[250,-300]\n",
    "line(400, 0 , arbre, 'brown')"
   ]
  },
  {
   "cell_type": "code",
   "execution_count": 4,
   "metadata": {},
   "outputs": [],
   "source": [
    "feuille1 =[250,-150]\n",
    "line(80, -60 , feuille1, 'brown')"
   ]
  },
  {
   "cell_type": "code",
   "execution_count": 5,
   "metadata": {},
   "outputs": [],
   "source": [
    "feuille2 = [250,-50]\n",
    "line(80, -60 , feuille2, 'brown')"
   ]
  },
  {
   "cell_type": "code",
   "execution_count": 6,
   "metadata": {},
   "outputs": [],
   "source": [
    "petale = [250,180]\n",
    "hexagone(80, 0, petale, 'green' )"
   ]
  },
  {
   "cell_type": "code",
   "execution_count": 7,
   "metadata": {},
   "outputs": [],
   "source": [
    "petaleFeuille1 = [148, -92]\n",
    "hexagone(40, 0, petaleFeuille1 , 'green' )"
   ]
  },
  {
   "cell_type": "code",
   "execution_count": 8,
   "metadata": {},
   "outputs": [],
   "source": [
    "petaleFeuille2 = [148, 10]\n",
    "hexagone(40, 0, petaleFeuille2 , 'green' )"
   ]
  },
  {
   "cell_type": "code",
   "execution_count": 9,
   "metadata": {},
   "outputs": [],
   "source": [
    "roueD = [100, -250]\n",
    "hexagone(50, 0, roueD, 'yellow')"
   ]
  },
  {
   "cell_type": "code",
   "execution_count": 10,
   "metadata": {},
   "outputs": [],
   "source": [
    "cadreD = [0, -250]\n",
    "triangleIsocele(100, cadreD, 'orange', 30)"
   ]
  },
  {
   "cell_type": "code",
   "execution_count": 11,
   "metadata": {},
   "outputs": [],
   "source": [
    "cadreG = [0, -250]\n",
    "triangleIsocele(100, cadreG, 'orange', -30)"
   ]
  },
  {
   "cell_type": "code",
   "execution_count": 12,
   "metadata": {},
   "outputs": [],
   "source": [
    "fourche = [-50,-163]\n",
    "line(100, 210 , fourche, 'orange')"
   ]
  },
  {
   "cell_type": "code",
   "execution_count": 13,
   "metadata": {},
   "outputs": [],
   "source": [
    "roueG = [-100, -250]\n",
    "hexagone(50, 0, roueG, 'yellow')"
   ]
  },
  {
   "cell_type": "code",
   "execution_count": 14,
   "metadata": {},
   "outputs": [],
   "source": [
    "guidon = [-50,-163]\n",
    "line(40, 50 , fourche, 'red')"
   ]
  },
  {
   "cell_type": "code",
   "execution_count": 15,
   "metadata": {},
   "outputs": [],
   "source": [
    "selle = [50,-163]\n",
    "line(40, 50 , selle, 'red')"
   ]
  },
  {
   "cell_type": "code",
   "execution_count": 16,
   "metadata": {},
   "outputs": [],
   "source": [
    "selle2 = [50,-138]\n",
    "line(30, 90 , selle2, 'red')"
   ]
  },
  {
   "cell_type": "code",
   "execution_count": 17,
   "metadata": {},
   "outputs": [],
   "source": [
    "flocon1 = [-300, 200]\n",
    "hexagone(40, 0, flocon1, 'cyan')"
   ]
  },
  {
   "cell_type": "code",
   "execution_count": 18,
   "metadata": {},
   "outputs": [],
   "source": [
    "flocon2 = [-200, 150]\n",
    "hexagone(40, 0, flocon2, 'cyan')"
   ]
  },
  {
   "cell_type": "code",
   "execution_count": 19,
   "metadata": {},
   "outputs": [],
   "source": [
    "flocon3 = [-100, 200]\n",
    "hexagone(40, 0, flocon3, 'cyan')"
   ]
  },
  {
   "cell_type": "code",
   "execution_count": 20,
   "metadata": {},
   "outputs": [],
   "source": [
    "flocon4 = [0, 150]\n",
    "hexagone(40, 0, flocon4, 'cyan')"
   ]
  },
  {
   "cell_type": "code",
   "execution_count": 21,
   "metadata": {},
   "outputs": [],
   "source": [
    "time.sleep(5)\n",
    "turtle.bye()"
   ]
  }
 ],
 "metadata": {
  "kernelspec": {
   "display_name": "Python 3",
   "language": "python",
   "name": "python3"
  },
  "language_info": {
   "codemirror_mode": {
    "name": "ipython",
    "version": 3
   },
   "file_extension": ".py",
   "mimetype": "text/x-python",
   "name": "python",
   "nbconvert_exporter": "python",
   "pygments_lexer": "ipython3",
   "version": "3.7.5"
  }
 },
 "nbformat": 4,
 "nbformat_minor": 2
}
