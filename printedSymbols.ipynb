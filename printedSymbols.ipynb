{
 "cells": [
  {
   "cell_type": "code",
   "execution_count": 1,
   "metadata": {},
   "outputs": [
    {
     "name": "stdout",
     "output_type": "stream",
     "text": [
      "How many triangles? 12\n",
      "           ^\n",
      "          ^^^\n",
      "         ^^^^^\n",
      "        ^^^^^^^\n",
      "       ^^^^^^^^^\n",
      "      ^^^^^^^^^^^\n",
      "     ^^^^^^^^^^^^^\n",
      "    ^^^^^^^^^^^^^^^\n",
      "   ^^^^^^^^^^^^^^^^^\n",
      "  ^^^^^^^^^^^^^^^^^^^\n",
      " ^^^^^^^^^^^^^^^^^^^^^\n",
      "^^^^^^^^^^^^^^^^^^^^^^^\n"
     ]
    }
   ],
   "source": [
    "def printTriangle(n, m, symbol):\n",
    "    p1 = \" \"\n",
    "    p2 = symbol\n",
    "    nbSymbol = 1\n",
    "    nbSpace = n-1\n",
    "    for i in range(1, n+1):\n",
    "        triangle = p1*m + p1*nbSpace + p2*nbSymbol\n",
    "        print(triangle)\n",
    "        nbSymbol = nbSymbol+2\n",
    "        nbSpace = nbSpace-1\n",
    "\n",
    "def main():\n",
    "    i= int(input(\"How many triangles? \"))\n",
    "    printTriangle(i,0,\"^\")\n",
    "\n",
    "main()"
   ]
  },
  {
   "cell_type": "code",
   "execution_count": null,
   "metadata": {},
   "outputs": [],
   "source": []
  }
 ],
 "metadata": {
  "kernelspec": {
   "display_name": "Python 3",
   "language": "python",
   "name": "python3"
  },
  "language_info": {
   "codemirror_mode": {
    "name": "ipython",
    "version": 3
   },
   "file_extension": ".py",
   "mimetype": "text/x-python",
   "name": "python",
   "nbconvert_exporter": "python",
   "pygments_lexer": "ipython3",
   "version": "3.7.5"
  }
 },
 "nbformat": 4,
 "nbformat_minor": 2
}
